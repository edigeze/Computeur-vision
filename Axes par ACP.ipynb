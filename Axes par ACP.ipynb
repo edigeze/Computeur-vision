{
 "cells": [
  {
   "cell_type": "markdown",
   "metadata": {},
   "source": [
    "INF6804 Vision par ordinateur\n",
    "\n",
    "Polytechnique Montréal\n",
    "\n",
    "Exemple du calcul d'un axe par analyse en composantes principales (ACP)"
   ]
  },
  {
   "cell_type": "code",
   "execution_count": 1,
   "metadata": {},
   "outputs": [],
   "source": [
    "from skimage import data\n",
    "import numpy as np\n",
    "import matplotlib.pyplot as plt\n",
    "import matplotlib.lines as mlines"
   ]
  },
  {
   "cell_type": "markdown",
   "metadata": {},
   "source": [
    "Lecture ou création d'une image binaire."
   ]
  },
  {
   "cell_type": "code",
   "execution_count": 2,
   "metadata": {},
   "outputs": [
    {
     "data": {
      "image/png": "[encoded data removed]",
      "text/plain": [
       "<Figure size 288x288 with 1 Axes>"
      ]
     },
     "metadata": {
      "needs_background": "light"
     },
     "output_type": "display_data"
    }
   ],
   "source": [
    "#Image 1\n",
    "#image = np.invert(data.horse()) \n",
    "#Image 2\n",
    "image = np.zeros((100,100))\n",
    "image[35:85,20:40] = 1\n",
    "#Affichage\n",
    "plt.figure(figsize=(4,4)) \n",
    "plt.imshow(image, plt.get_cmap('binary'))\n",
    "plt.show()"
   ]
  },
  {
   "cell_type": "markdown",
   "metadata": {},
   "source": [
    "Listes contenant les coordonnées en X et en Y des pixels à True."
   ]
  },
  {
   "cell_type": "code",
   "execution_count": 3,
   "metadata": {},
   "outputs": [],
   "source": [
    "LesX = []\n",
    "LesY = []\n",
    "for i in range(image.shape[0]):\n",
    "    for j in range(image.shape[1]):\n",
    "        if image[i,j] == True:\n",
    "            LesX = LesX + [j]\n",
    "            LesY = LesY + [i]"
   ]
  },
  {
   "cell_type": "markdown",
   "metadata": {},
   "source": [
    "Moyennes et covariance des coordonnées pour calculer les vecteurs propres, valeurs propres."
   ]
  },
  {
   "cell_type": "code",
   "execution_count": 4,
   "metadata": {},
   "outputs": [],
   "source": [
    "MoyX = np.mean(LesX)\n",
    "MoyY = np.mean(LesY)\n",
    "LesX = LesX - MoyX\n",
    "LesY = LesY - MoyY\n",
    "matcov = np.cov(LesX,LesY)"
   ]
  },
  {
   "cell_type": "markdown",
   "metadata": {},
   "source": [
    "Calcul des vecteurs propres/valeurs propres pour trouver les axes principaux. Trouve le système de coordonnées optimal pour représenter les pixels à True."
   ]
  },
  {
   "cell_type": "code",
   "execution_count": 5,
   "metadata": {},
   "outputs": [],
   "source": [
    "val, vec = np.linalg.eig(matcov)\n",
    "maxval = np.argmax(val)"
   ]
  },
  {
   "cell_type": "markdown",
   "metadata": {},
   "source": [
    "Affichage de l'axe ayant le plus d'énergie."
   ]
  },
  {
   "cell_type": "code",
   "execution_count": 6,
   "metadata": {},
   "outputs": [
    {
     "data": {
      "image/png": "[encoded data removed]",
      "text/plain": [
       "<Figure size 288x288 with 1 Axes>"
      ]
     },
     "metadata": {
      "needs_background": "light"
     },
     "output_type": "display_data"
    }
   ],
   "source": [
    "plt.figure(figsize=(4,4)) \n",
    "plt.imshow(image, plt.get_cmap('binary'))\n",
    "plt.plot(MoyX,MoyY, marker='o', color = 'r')\n",
    "ax = plt.gca()\n",
    "xmin = MoyX - 100*vec[maxval,0]\n",
    "xmax = MoyX + 100*vec[maxval,0]\n",
    "ymin = MoyY - 100*vec[maxval,1]\n",
    "ymax = MoyY + 100*vec[maxval,1]\n",
    "l = mlines.Line2D([xmin,xmax], [ymin,ymax])\n",
    "ax.add_line(l)\n",
    "\n",
    "plt.show()"
   ]
  },
  {
   "cell_type": "code",
   "execution_count": null,
   "metadata": {},
   "outputs": [],
   "source": []
  }
 ],
 "metadata": {
  "kernelspec": {
   "display_name": "Python 3",
   "language": "python",
   "name": "python3"
  },
  "language_info": {
   "codemirror_mode": {
    "name": "ipython",
    "version": 3
   },
   "file_extension": ".py",
   "mimetype": "text/x-python",
   "name": "python",
   "nbconvert_exporter": "python",
   "pygments_lexer": "ipython3",
   "version": "3.6.6"
  }
 },
 "nbformat": 4,
 "nbformat_minor": 2
}
