{
 "cells": [
  {
   "cell_type": "code",
   "execution_count": 1,
   "metadata": {},
   "outputs": [
    {
     "name": "stdout",
     "output_type": "stream",
     "text": [
      "['3', '4', '1']\n"
     ]
    }
   ],
   "source": [
    "import cv2\n",
    "print((cv2.__version__).split('.'))\n",
    "import numpy as np\n",
    "import os\n",
    "import sys\n",
    "from random import randint\n"
   ]
  },
  {
   "cell_type": "markdown",
   "metadata": {},
   "source": [
    "# multi tracking"
   ]
  },
  {
   "cell_type": "code",
   "execution_count": 2,
   "metadata": {},
   "outputs": [],
   "source": [
    "from __future__ import print_function"
   ]
  },
  {
   "cell_type": "code",
   "execution_count": 3,
   "metadata": {
    "scrolled": false
   },
   "outputs": [],
   "source": [
    "tracker_type='CSRT'\n",
    "tracker = cv2.TrackerCSRT_create()\n",
    "# Set video to load\n",
    "Path = 'C:\\\\Users\\\\Edouard Geze\\\\Desktop\\\\Etude\\\\trimestre 2\\\\computeur vision\\\\TP3\\\\TP3_data(final)\\\\'\n",
    "\n",
    "videoPath = Path + \"video.mp4\"\n",
    "\n",
    "# Create a video capture object to read videos\n",
    "cap = cv2.VideoCapture(videoPath)\n",
    " \n",
    "# Read first frame\n",
    "success, frame = cap.read()\n",
    "\n",
    "\n",
    "\n",
    "#       cor x cor y ep x ep y\n",
    "bboxes = [(917, 498, 195, 257), (1217, 455, 190, 242)] #pas mal\n",
    "\n",
    "colors = [(0, 0, 0), (0, 0, 255)] \n",
    "\n",
    "# Create MultiTracker object\n",
    "multiTracker = cv2.MultiTracker_create()\n",
    "\n",
    "tracker_type='CSRT'\n",
    "\n",
    "\n",
    "# Initialize MultiTracker \n",
    "for bbox in bboxes:\n",
    "    multiTracker.add(cv2.TrackerCSRT_create(), frame, bbox)\n",
    "\n",
    "\n",
    "\n",
    "tab=np.zeros((2024,6),dtype=int)#2022\n",
    "ligne=0\n",
    "tab[0]=[ligne+1,1,bboxes[0][0],bboxes[0][2]+bboxes[0][0],bboxes[0][1],bboxes[0][3]+bboxes[0][1]]\n",
    "tab[1]=[ligne+1,2,bboxes[1][0],bboxes[1][2]+bboxes[1][0],bboxes[1][1],bboxes[1][3]+bboxes[1][1]]\n",
    "# Process video and track objects\n",
    "while cap.isOpened():\n",
    "    ligne=ligne+1\n",
    "    \n",
    "    \n",
    "    \n",
    "    if ligne ==450:\n",
    "        bboxes = [(700, 700, 300, 370), (850, 480 , 180 ,220)] \n",
    "        colors = [(0, 0, 0), (0, 0, 255)] \n",
    "        multiTracker = cv2.MultiTracker_create()\n",
    "        for bbox in bboxes:\n",
    "            multiTracker.add(cv2.TrackerCSRT_create(), frame, bbox)\n",
    "    \n",
    "    \n",
    "    \n",
    "    \n",
    "    \n",
    "    success, frame = cap.read()\n",
    "    if not success:\n",
    "        break\n",
    "        \n",
    "    # Start timer\n",
    "    timer = cv2.getTickCount()\n",
    "   \n",
    "  # get updated location of objects in subsequent frames\n",
    "    success, boxes = multiTracker.update(frame)\n",
    "    \n",
    "    # Calculate Frames per second (FPS)\n",
    "    fps = cv2.getTickFrequency() / (cv2.getTickCount() - timer);\n",
    " \n",
    "        \n",
    "  # draw tracked objects\n",
    "    for i, newbox in enumerate(boxes):\n",
    "        p1 = (int(newbox[0]), int(newbox[1]))\n",
    "        p2 = (int(newbox[0] + newbox[2]), int(newbox[1] + newbox[3]))\n",
    "        cv2.rectangle(frame, p1, p2, colors[i], 2, 1)\n",
    " \n",
    "    # Display tracker type on frame\n",
    "    cv2.putText(frame, tracker_type + \" Tracker\", (100,20), cv2.FONT_HERSHEY_SIMPLEX, 0.75, (50,170,50),2);\n",
    "\n",
    "    # Display FPS on frame\n",
    "    cv2.putText(frame, \"FPS : \" + str(int(fps)), (100,50), cv2.FONT_HERSHEY_SIMPLEX, 0.75, (50,170,50), 2);\n",
    "    \n",
    "      # show frame\n",
    "    cv2.namedWindow('MultiTracker', cv2.WND_PROP_FULLSCREEN)\n",
    "    cv2.setWindowProperty('MultiTracker',cv2.WND_PROP_FULLSCREEN,cv2.WINDOW_FULLSCREEN)\n",
    "    cv2.imshow('MultiTracker', frame)\n",
    "    tab[ligne*2]=[ligne+1,1,boxes[0][0],boxes[0][2]+boxes[0][0],boxes[0][1],boxes[0][3]+boxes[0][1]]\n",
    "    tab[ligne*2+1]=[ligne+1,2,boxes[1][0],boxes[1][2]+boxes[1][0],boxes[1][1],boxes[1][3]+boxes[1][1]]\n",
    "      \n",
    "    if  ligne == 2022/2:\n",
    "        break\n",
    "    \n",
    "    \n",
    "    \n",
    "    # quit on ESC button\n",
    "    if cv2.waitKey(1) & 0xFF == ord('q'):\n",
    "        break\n",
    "\n",
    "cv2.destroyAllWindows()\n",
    "tab=tab[0:2022]\n",
    "np.savetxt('test.txt', tab, delimiter=' ', fmt='%i')"
   ]
  },
  {
   "cell_type": "markdown",
   "metadata": {},
   "source": [
    "# Autres test"
   ]
  },
  {
   "cell_type": "markdown",
   "metadata": {},
   "source": [
    "# simple tracking"
   ]
  },
  {
   "cell_type": "code",
   "execution_count": 4,
   "metadata": {},
   "outputs": [],
   "source": [
    "def tracker(bbox):\n",
    "    \n",
    "    tracker_type='CSRT'\n",
    "    tracker =cv2.TrackerCSRT_create()\n",
    "    # Read video\n",
    "    video = cv2.VideoCapture(\"video.avi\")\n",
    "\n",
    "\n",
    "    # Exit if video not opened.\n",
    "    if not video.isOpened():\n",
    "        print (\"Could not open video\")\n",
    "        sys.exit()\n",
    "\n",
    "    # Read first frame.\n",
    "    ok, frame = video.read()\n",
    "    if not ok:\n",
    "        print ('Cannot read video file')\n",
    "        sys.exit()\n",
    "\n",
    "\n",
    "    # Uncomment the line below to select a different bounding box\n",
    "    #bbox = cv2.selectROI(frame, False)\n",
    "    \n",
    "\n",
    "\n",
    "    # Initialize tracker with first frame and bounding box\n",
    "    ok = tracker.init(frame, bbox)\n",
    "    print(bbox)\n",
    "    bboxpred=np.array(bbox)\n",
    "    while True:\n",
    "        # Read a new frame\n",
    "        ok, frame = video.read()\n",
    "        if not ok:\n",
    "            break\n",
    "\n",
    "        # Start timer\n",
    "        timer = cv2.getTickCount()\n",
    "\n",
    "        # Update tracker\n",
    "        ok, bbox = tracker.update(frame)\n",
    "\n",
    "        # Calculate Frames per second (FPS)\n",
    "        fps = cv2.getTickFrequency() / (cv2.getTickCount() - timer);\n",
    "\n",
    "        # Draw bounding box\n",
    "        if ok:\n",
    "            # Tracking success\n",
    "            p1 = (int(bbox[0]), int(bbox[1]))\n",
    "            p2 = (int(bbox[0] + bbox[2]), int(bbox[1] + bbox[3]))\n",
    "            cv2.rectangle(frame, p1, p2, (255,0,0), 2, 1)\n",
    "        else :\n",
    "            # Tracking failure\n",
    "            cv2.putText(frame, \"Tracking failure detected\", (100,80), cv2.FONT_HERSHEY_SIMPLEX, 0.75,(0,0,255),2)\n",
    "\n",
    "        # Display tracker type on frame\n",
    "        cv2.putText(frame, tracker_type + \" Tracker\", (100,20), cv2.FONT_HERSHEY_SIMPLEX, 0.75, (50,170,50),2);\n",
    "\n",
    "        # Display FPS on frame\n",
    "        cv2.putText(frame, \"FPS : \" + str(int(fps)), (100,50), cv2.FONT_HERSHEY_SIMPLEX, 0.75, (50,170,50), 2);\n",
    "\n",
    "        # Display result\n",
    "        cv2.imshow(\"Tracking\", frame)\n",
    "        bboxpred=np.append(bboxpred,bbox)\n",
    "\n",
    "        if cv2.waitKey(1) & 0xFF == ord('q'):\n",
    "            break\n",
    "\n",
    "    cv2.destroyAllWindows()\n",
    "    return bboxpred"
   ]
  },
  {
   "cell_type": "markdown",
   "metadata": {},
   "source": [
    "# tranform frame into video"
   ]
  },
  {
   "cell_type": "code",
   "execution_count": 5,
   "metadata": {},
   "outputs": [],
   "source": [
    "def video(Path):\n",
    "    image_folder = '1'\n",
    "    video_name = 'video.avi'\n",
    "\n",
    "    images = [img for img in os.listdir(Path) if img.endswith(\".jpg\")]\n",
    "    frame = cv2.imread(os.path.join(Path, images[0]))\n",
    "    height, width, layers = frame.shape\n",
    "\n",
    "    video = cv2.VideoWriter(video_name, 0, 30, (width,height))\n",
    "\n",
    "    for image in images:\n",
    "        video.write(cv2.imread(os.path.join(Path, image)))\n",
    "\n",
    "    cv2.destroyAllWindows()\n",
    "    video.release()"
   ]
  },
  {
   "cell_type": "code",
   "execution_count": 6,
   "metadata": {},
   "outputs": [],
   "source": [
    "def trouver_bbox_vrais(Path):\n",
    "    f = open(Path + 'groundtruth.txt', 'r')\n",
    "    content = f.read()\n",
    "    l = content.split('\\n')\n",
    "    l=l[:-1]\n",
    "    #print(l)\n",
    "    a=np.array([])\n",
    "    for i in l:\n",
    "        a = np.append(a,i.split(','))\n",
    "\n",
    "    a=np.reshape(a,(int(a.shape[0]/8), 8)).astype(float)\n",
    "    return a\n",
    "\n",
    "def score(bbox_vrais,bboxpred):# le score correspond au \n",
    "    bboxpred=np.reshape(bboxpred,(int(bboxpred.shape[0]/4), 4)).astype(float)\n",
    "    bboxpred[:,2]=bboxpred[:,2]+bboxpred[:,0]\n",
    "    bboxpred[:,3]=bboxpred[:,3]+bboxpred[:,1]\n",
    "    bbox_vrais[:,3]=bbox_vrais[:,5]\n",
    "    bbox_vrais[:,4] = (np.minimum(bboxpred[:,2], bbox_vrais[:,2]) - np.maximum(bboxpred[:,0], bbox_vrais[:,0]))*(np.minimum(bboxpred[:,3], bbox_vrais[:,3]) - np.maximum(bboxpred[:,1], bbox_vrais[:,1]))\n",
    "    bbox_vrais[:,5] =(bboxpred[:,2]-bboxpred[:,0])*(bboxpred[:,3]-bboxpred[:,1])+(bbox_vrais[:,2]-bbox_vrais[:,0])*(bbox_vrais[:,3]-bbox_vrais[:,1])\n",
    "    bbox_vrais[:,6] = bbox_vrais[:,4]/(bbox_vrais[:,5]-bbox_vrais[:,4])\n",
    "    score = np.sum(bbox_vrais[:,6])/bbox_vrais[:,6].shape[0]\n",
    "    return score,bboxpred,bbox_vrais"
   ]
  },
  {
   "cell_type": "code",
   "execution_count": 8,
   "metadata": {},
   "outputs": [
    {
     "name": "stdout",
     "output_type": "stream",
     "text": [
      "(496, 419, 40, 42)\n"
     ]
    },
    {
     "ename": "TypeError",
     "evalue": "'numpy.float64' object is not callable",
     "output_type": "error",
     "traceback": [
      "\u001b[1;31m---------------------------------------------------------------------------\u001b[0m",
      "\u001b[1;31mTypeError\u001b[0m                                 Traceback (most recent call last)",
      "\u001b[1;32m<ipython-input-8-45b3df707d18>\u001b[0m in \u001b[0;36m<module>\u001b[1;34m\u001b[0m\n\u001b[0;32m      4\u001b[0m \u001b[0mvideo\u001b[0m\u001b[1;33m(\u001b[0m\u001b[0mPath\u001b[0m\u001b[1;33m)\u001b[0m\u001b[1;33m\u001b[0m\u001b[1;33m\u001b[0m\u001b[0m\n\u001b[0;32m      5\u001b[0m \u001b[0mbboxpred\u001b[0m \u001b[1;33m=\u001b[0m \u001b[0mtracker\u001b[0m\u001b[1;33m(\u001b[0m\u001b[0mbbox\u001b[0m\u001b[1;33m)\u001b[0m\u001b[1;33m\u001b[0m\u001b[1;33m\u001b[0m\u001b[0m\n\u001b[1;32m----> 6\u001b[1;33m \u001b[0mscore\u001b[0m\u001b[1;33m,\u001b[0m\u001b[0mbboxpred\u001b[0m\u001b[1;33m,\u001b[0m\u001b[0mbbox_vrais\u001b[0m \u001b[1;33m=\u001b[0m \u001b[0mscore\u001b[0m\u001b[1;33m(\u001b[0m\u001b[0mbbox_vrais\u001b[0m\u001b[1;33m,\u001b[0m\u001b[0mbboxpred\u001b[0m\u001b[1;33m)\u001b[0m\u001b[1;33m\u001b[0m\u001b[1;33m\u001b[0m\u001b[0m\n\u001b[0m\u001b[0;32m      7\u001b[0m \u001b[0mprint\u001b[0m\u001b[1;33m(\u001b[0m\u001b[0mscore\u001b[0m\u001b[1;33m,\u001b[0m\u001b[1;33m)\u001b[0m\u001b[1;33m\u001b[0m\u001b[1;33m\u001b[0m\u001b[0m\n",
      "\u001b[1;31mTypeError\u001b[0m: 'numpy.float64' object is not callable"
     ]
    }
   ],
   "source": [
    "Path = 'C:\\\\Users\\\\Edouard Geze\\\\Desktop\\\\Etude\\\\trimestre 2\\\\computeur vision\\\\TP3\\\\video\\\\1\\\\'\n",
    "bbox_vrais = trouver_bbox_vrais(Path)\n",
    "bbox=(int(bbox_vrais[0,0]),int(bbox_vrais[0,1]),int(bbox_vrais[0,2]-bbox_vrais[0,0]),int(bbox_vrais[0,5]-bbox_vrais[0,1]))\n",
    "video(Path)\n",
    "bboxpred = tracker(bbox)\n",
    "score,bboxpred,bbox_vrais = score(bbox_vrais,bboxpred)\n",
    "print(score,)"
   ]
  },
  {
   "cell_type": "code",
   "execution_count": 110,
   "metadata": {},
   "outputs": [
    {
     "name": "stdout",
     "output_type": "stream",
     "text": [
      "(170, 24, 24, 59)\n"
     ]
    },
    {
     "ename": "TypeError",
     "evalue": "'numpy.float64' object is not callable",
     "output_type": "error",
     "traceback": [
      "\u001b[1;31m---------------------------------------------------------------------------\u001b[0m",
      "\u001b[1;31mTypeError\u001b[0m                                 Traceback (most recent call last)",
      "\u001b[1;32m<ipython-input-110-0677e1d75e5c>\u001b[0m in \u001b[0;36m<module>\u001b[1;34m\u001b[0m\n\u001b[0;32m      4\u001b[0m \u001b[0mvideo\u001b[0m\u001b[1;33m(\u001b[0m\u001b[0mPath\u001b[0m\u001b[1;33m)\u001b[0m\u001b[1;33m\u001b[0m\u001b[1;33m\u001b[0m\u001b[0m\n\u001b[0;32m      5\u001b[0m \u001b[0mbboxpred\u001b[0m \u001b[1;33m=\u001b[0m \u001b[0mtracker\u001b[0m\u001b[1;33m(\u001b[0m\u001b[0mbbox\u001b[0m\u001b[1;33m)\u001b[0m\u001b[1;33m\u001b[0m\u001b[1;33m\u001b[0m\u001b[0m\n\u001b[1;32m----> 6\u001b[1;33m \u001b[0mscore\u001b[0m\u001b[1;33m,\u001b[0m\u001b[0mbboxpred\u001b[0m\u001b[1;33m,\u001b[0m\u001b[0mbbox_vrais\u001b[0m \u001b[1;33m=\u001b[0m \u001b[0mscore\u001b[0m\u001b[1;33m(\u001b[0m\u001b[0mbbox_vrais\u001b[0m\u001b[1;33m,\u001b[0m\u001b[0mbboxpred\u001b[0m\u001b[1;33m)\u001b[0m\u001b[1;33m\u001b[0m\u001b[1;33m\u001b[0m\u001b[0m\n\u001b[0m\u001b[0;32m      7\u001b[0m \u001b[0mprint\u001b[0m\u001b[1;33m(\u001b[0m\u001b[0mscore\u001b[0m\u001b[1;33m)\u001b[0m\u001b[1;33m\u001b[0m\u001b[1;33m\u001b[0m\u001b[0m\n",
      "\u001b[1;31mTypeError\u001b[0m: 'numpy.float64' object is not callable"
     ]
    }
   ],
   "source": [
    "Path = 'C:\\\\Users\\\\Edouard Geze\\\\Desktop\\\\Etude\\\\trimestre 2\\\\computeur vision\\\\TP3\\\\video\\\\2\\\\'\n",
    "bbox_vrais = trouver_bbox_vrais(Path)\n",
    "bbox=(int(bbox_vrais[0,0]),int(bbox_vrais[0,1]),int(bbox_vrais[0,2]-bbox_vrais[0,0]),int(bbox_vrais[0,5]-bbox_vrais[0,1]))\n",
    "video(Path)\n",
    "bboxpred = tracker(bbox)\n",
    "score,bboxpred,bbox_vrais = score(bbox_vrais,bboxpred)\n",
    "print(score)"
   ]
  },
  {
   "cell_type": "code",
   "execution_count": 111,
   "metadata": {},
   "outputs": [
    {
     "name": "stdout",
     "output_type": "stream",
     "text": [
      "(296, 73, 59, 227)\n"
     ]
    },
    {
     "ename": "TypeError",
     "evalue": "'numpy.float64' object is not callable",
     "output_type": "error",
     "traceback": [
      "\u001b[1;31m---------------------------------------------------------------------------\u001b[0m",
      "\u001b[1;31mTypeError\u001b[0m                                 Traceback (most recent call last)",
      "\u001b[1;32m<ipython-input-111-c56f60fa7003>\u001b[0m in \u001b[0;36m<module>\u001b[1;34m\u001b[0m\n\u001b[0;32m      4\u001b[0m \u001b[0mvideo\u001b[0m\u001b[1;33m(\u001b[0m\u001b[0mPath\u001b[0m\u001b[1;33m)\u001b[0m\u001b[1;33m\u001b[0m\u001b[1;33m\u001b[0m\u001b[0m\n\u001b[0;32m      5\u001b[0m \u001b[0mbboxpred\u001b[0m \u001b[1;33m=\u001b[0m \u001b[0mtracker\u001b[0m\u001b[1;33m(\u001b[0m\u001b[0mbbox\u001b[0m\u001b[1;33m)\u001b[0m\u001b[1;33m\u001b[0m\u001b[1;33m\u001b[0m\u001b[0m\n\u001b[1;32m----> 6\u001b[1;33m \u001b[0mscore\u001b[0m\u001b[1;33m,\u001b[0m\u001b[0mbboxpred\u001b[0m\u001b[1;33m,\u001b[0m\u001b[0mbbox_vrais\u001b[0m \u001b[1;33m=\u001b[0m \u001b[0mscore\u001b[0m\u001b[1;33m(\u001b[0m\u001b[0mbbox_vrais\u001b[0m\u001b[1;33m,\u001b[0m\u001b[0mbboxpred\u001b[0m\u001b[1;33m)\u001b[0m\u001b[1;33m\u001b[0m\u001b[1;33m\u001b[0m\u001b[0m\n\u001b[0m\u001b[0;32m      7\u001b[0m \u001b[0mprint\u001b[0m\u001b[1;33m(\u001b[0m\u001b[0mscore\u001b[0m\u001b[1;33m)\u001b[0m\u001b[1;33m\u001b[0m\u001b[1;33m\u001b[0m\u001b[0m\n",
      "\u001b[1;31mTypeError\u001b[0m: 'numpy.float64' object is not callable"
     ]
    }
   ],
   "source": [
    "Path = 'C:\\\\Users\\\\Edouard Geze\\\\Desktop\\\\Etude\\\\trimestre 2\\\\computeur vision\\\\TP3\\\\video\\\\3\\\\'\n",
    "bbox_vrais = trouver_bbox_vrais(Path)\n",
    "bbox=(int(bbox_vrais[0,0]),int(bbox_vrais[0,1]),int(bbox_vrais[0,2]-bbox_vrais[0,0]),int(bbox_vrais[0,5]-bbox_vrais[0,1]))\n",
    "video(Path)\n",
    "bboxpred = tracker(bbox)\n",
    "score,bboxpred,bbox_vrais = score(bbox_vrais,bboxpred)\n",
    "print(score)"
   ]
  },
  {
   "cell_type": "code",
   "execution_count": 100,
   "metadata": {},
   "outputs": [
    {
     "name": "stdout",
     "output_type": "stream",
     "text": [
      "(277, 82, 26, 55)\n"
     ]
    },
    {
     "ename": "TypeError",
     "evalue": "'numpy.float64' object is not callable",
     "output_type": "error",
     "traceback": [
      "\u001b[1;31m---------------------------------------------------------------------------\u001b[0m",
      "\u001b[1;31mTypeError\u001b[0m                                 Traceback (most recent call last)",
      "\u001b[1;32m<ipython-input-100-60af14e7f4ca>\u001b[0m in \u001b[0;36m<module>\u001b[1;34m\u001b[0m\n\u001b[0;32m      4\u001b[0m \u001b[0mvideo\u001b[0m\u001b[1;33m(\u001b[0m\u001b[0mPath\u001b[0m\u001b[1;33m)\u001b[0m\u001b[1;33m\u001b[0m\u001b[1;33m\u001b[0m\u001b[0m\n\u001b[0;32m      5\u001b[0m \u001b[0mbboxpred\u001b[0m \u001b[1;33m=\u001b[0m \u001b[0mtracker\u001b[0m\u001b[1;33m(\u001b[0m\u001b[0mbbox\u001b[0m\u001b[1;33m)\u001b[0m\u001b[1;33m\u001b[0m\u001b[1;33m\u001b[0m\u001b[0m\n\u001b[1;32m----> 6\u001b[1;33m \u001b[0mscore\u001b[0m\u001b[1;33m,\u001b[0m\u001b[0mbboxpred\u001b[0m\u001b[1;33m,\u001b[0m\u001b[0mbbox_vrais\u001b[0m \u001b[1;33m=\u001b[0m \u001b[0mscore\u001b[0m\u001b[1;33m(\u001b[0m\u001b[0mbbox_vrais\u001b[0m\u001b[1;33m,\u001b[0m\u001b[0mbboxpred\u001b[0m\u001b[1;33m)\u001b[0m\u001b[1;33m\u001b[0m\u001b[1;33m\u001b[0m\u001b[0m\n\u001b[0m\u001b[0;32m      7\u001b[0m \u001b[0mprint\u001b[0m\u001b[1;33m(\u001b[0m\u001b[0mscore\u001b[0m\u001b[1;33m)\u001b[0m\u001b[1;33m\u001b[0m\u001b[1;33m\u001b[0m\u001b[0m\n",
      "\u001b[1;31mTypeError\u001b[0m: 'numpy.float64' object is not callable"
     ]
    }
   ],
   "source": [
    "Path = 'C:\\\\Users\\\\Edouard Geze\\\\Desktop\\\\Etude\\\\trimestre 2\\\\computeur vision\\\\TP3\\\\video\\\\4\\\\'\n",
    "bbox_vrais = trouver_bbox_vrais(Path)\n",
    "bbox=(int(bbox_vrais[0,0]),int(bbox_vrais[0,1]),int(bbox_vrais[0,2]-bbox_vrais[0,0]),int(bbox_vrais[0,5]-bbox_vrais[0,1]))\n",
    "video(Path)\n",
    "bboxpred = tracker(bbox)\n",
    "score,bboxpred,bbox_vrais = score(bbox_vrais,bboxpred)\n",
    "print(score)"
   ]
  },
  {
   "cell_type": "code",
   "execution_count": 7,
   "metadata": {},
   "outputs": [
    {
     "name": "stdout",
     "output_type": "stream",
     "text": [
      "(151, 67, 43, 56)\n"
     ]
    },
    {
     "ename": "TypeError",
     "evalue": "'numpy.float64' object is not callable",
     "output_type": "error",
     "traceback": [
      "\u001b[1;31m---------------------------------------------------------------------------\u001b[0m",
      "\u001b[1;31mTypeError\u001b[0m                                 Traceback (most recent call last)",
      "\u001b[1;32m<ipython-input-7-a191c556efb2>\u001b[0m in \u001b[0;36m<module>\u001b[1;34m\u001b[0m\n\u001b[0;32m      4\u001b[0m \u001b[0mvideo\u001b[0m\u001b[1;33m(\u001b[0m\u001b[0mPath\u001b[0m\u001b[1;33m)\u001b[0m\u001b[1;33m\u001b[0m\u001b[1;33m\u001b[0m\u001b[0m\n\u001b[0;32m      5\u001b[0m \u001b[0mbboxpred\u001b[0m \u001b[1;33m=\u001b[0m \u001b[0mtracker\u001b[0m\u001b[1;33m(\u001b[0m\u001b[0mbbox\u001b[0m\u001b[1;33m)\u001b[0m\u001b[1;33m\u001b[0m\u001b[1;33m\u001b[0m\u001b[0m\n\u001b[1;32m----> 6\u001b[1;33m \u001b[0mscore\u001b[0m\u001b[1;33m,\u001b[0m\u001b[0mbboxpred\u001b[0m\u001b[1;33m,\u001b[0m\u001b[0mbbox_vrais\u001b[0m \u001b[1;33m=\u001b[0m \u001b[0mscore\u001b[0m\u001b[1;33m(\u001b[0m\u001b[0mbbox_vrais\u001b[0m\u001b[1;33m,\u001b[0m\u001b[0mbboxpred\u001b[0m\u001b[1;33m)\u001b[0m\u001b[1;33m\u001b[0m\u001b[1;33m\u001b[0m\u001b[0m\n\u001b[0m\u001b[0;32m      7\u001b[0m \u001b[0mprint\u001b[0m\u001b[1;33m(\u001b[0m\u001b[0mscore\u001b[0m\u001b[1;33m)\u001b[0m\u001b[1;33m\u001b[0m\u001b[1;33m\u001b[0m\u001b[0m\n",
      "\u001b[1;31mTypeError\u001b[0m: 'numpy.float64' object is not callable"
     ]
    }
   ],
   "source": [
    "Path = 'C:\\\\Users\\\\Edouard Geze\\\\Desktop\\\\Etude\\\\trimestre 2\\\\computeur vision\\\\TP3\\\\video\\\\5\\\\'\n",
    "bbox_vrais = trouver_bbox_vrais(Path)\n",
    "bbox=(int(bbox_vrais[0,0]),int(bbox_vrais[0,1]),int(bbox_vrais[0,2]-bbox_vrais[0,0]),int(bbox_vrais[0,5]-bbox_vrais[0,1]))\n",
    "video(Path)\n",
    "bboxpred = tracker(bbox)\n",
    "score,bboxpred,bbox_vrais = score(bbox_vrais,bboxpred)\n",
    "print(score)"
   ]
  },
  {
   "cell_type": "code",
   "execution_count": null,
   "metadata": {},
   "outputs": [],
   "source": [
    "        #if tracker_type == 'BOOSTING':\n",
    "       #     tracker = cv2.TrackerBoosting_create()\n",
    "        if tracker_type == 'MIL':\n",
    "            tracker = cv2.TrackerMIL_create()\n",
    "        if tracker_type == 'KCF':\n",
    "            tracker = cv2.TrackerKCF_create()\n",
    "        if tracker_type == 'TLD':\n",
    "            tracker = cv2.TrackerTLD_create()\n",
    "        if tracker_type == 'MEDIANFLOW':\n",
    "            tracker = cv2.TrackerMedianFlow_create()\n",
    "        if tracker_type == 'GOTURN':\n",
    "            tracker = cv2.TrackerGOTURN_create()\n",
    "        if tracker_type == 'MOSSE':\n",
    "            tracker = cv2.TrackerMOSSE_create()\n",
    "        #if tracker_type == \"CSRT\":\n",
    "       #     tracker = cv2.TrackerCSRT_create()"
   ]
  },
  {
   "cell_type": "code",
   "execution_count": null,
   "metadata": {},
   "outputs": [],
   "source": [
    "cap = cv2.VideoCapture(0)\n",
    "\n",
    "# Define the codec and create VideoWriter object\n",
    "fourcc = cv2.VideoWriter_fourcc(*'XVID')\n",
    "out = cv2.VideoWriter('output.avi',fourcc, 20.0, (640,480))\n",
    "\n",
    "\n",
    "while(cap.isOpened()):\n",
    "    ret, frame = cap.read()\n",
    "    if ret==True:\n",
    "\n",
    "        # write the flipped frame\n",
    "        out.write(frame)\n",
    "\n",
    "        cv2.imshow('frame',frame)\n",
    "        if cv2.waitKey(1) & 0xFF == ord('q'):\n",
    "            break\n",
    "    else:\n",
    "        break\n",
    "\n",
    "# Release everything if job is finished\n",
    "cap.release()\n",
    "out.release()\n",
    "cv2.destroyAllWindows()"
   ]
  },
  {
   "cell_type": "code",
   "execution_count": 7,
   "metadata": {},
   "outputs": [
    {
     "name": "stdout",
     "output_type": "stream",
     "text": [
      "(370, 287, 48, 56)\n"
     ]
    }
   ],
   "source": [
    "\n",
    "tracker_type='CSRT'\n",
    "tracker = cv2.TrackerCSRT_create()\n",
    "# Read video\n",
    "video = cv2.VideoCapture(\"output.avi\")\n",
    "\n",
    "\n",
    "# Exit if video not opened.\n",
    "if not video.isOpened():\n",
    "    print (\"Could not open video\")\n",
    "    sys.exit()\n",
    "\n",
    "# Read first frame.\n",
    "ok, frame = video.read()\n",
    "if not ok:\n",
    "    print ('Cannot read video file')\n",
    "    sys.exit()\n",
    "\n",
    "\n",
    "# Uncomment the line below to select a different bounding box\n",
    "bbox = cv2.selectROI(frame, False)\n",
    "\n",
    "\n",
    "\n",
    "# Initialize tracker with first frame and bounding box\n",
    "ok = tracker.init(frame, bbox)\n",
    "print(bbox)\n",
    "bboxpred=np.array(bbox)\n",
    "while True:\n",
    "    # Read a new frame\n",
    "    ok, frame = video.read()\n",
    "    if not ok:\n",
    "        break\n",
    "\n",
    "    # Start timer\n",
    "    timer = cv2.getTickCount()\n",
    "\n",
    "    # Update tracker\n",
    "    ok, bbox = tracker.update(frame)\n",
    "\n",
    "    # Calculate Frames per second (FPS)\n",
    "    fps = cv2.getTickFrequency() / (cv2.getTickCount() - timer);\n",
    "\n",
    "    # Draw bounding box\n",
    "    if ok:\n",
    "        # Tracking success\n",
    "        p1 = (int(bbox[0]), int(bbox[1]))\n",
    "        p2 = (int(bbox[0] + bbox[2]), int(bbox[1] + bbox[3]))\n",
    "        cv2.rectangle(frame, p1, p2, (255,0,0), 2, 1)\n",
    "    else :\n",
    "        # Tracking failure\n",
    "        cv2.putText(frame, \"Tracking failure detected\", (100,80), cv2.FONT_HERSHEY_SIMPLEX, 0.75,(0,0,255),2)\n",
    "\n",
    "    # Display tracker type on frame\n",
    "    cv2.putText(frame, tracker_type + \" Tracker\", (100,20), cv2.FONT_HERSHEY_SIMPLEX, 0.75, (50,170,50),2);\n",
    "\n",
    "    # Display FPS on frame\n",
    "    cv2.putText(frame, \"FPS : \" + str(int(fps)), (100,50), cv2.FONT_HERSHEY_SIMPLEX, 0.75, (50,170,50), 2);\n",
    "\n",
    "    # Display result\n",
    "    cv2.imshow(\"Tracking\", frame)\n",
    "    bboxpred=np.append(bboxpred,bbox)\n",
    "\n",
    "    if cv2.waitKey(1) & 0xFF == ord('q'):\n",
    "        break\n",
    "\n",
    "cv2.destroyAllWindows()\n"
   ]
  },
  {
   "cell_type": "code",
   "execution_count": null,
   "metadata": {},
   "outputs": [],
   "source": []
  },
  {
   "cell_type": "code",
   "execution_count": null,
   "metadata": {},
   "outputs": [],
   "source": []
  },
  {
   "cell_type": "code",
   "execution_count": null,
   "metadata": {},
   "outputs": [],
   "source": []
  },
  {
   "cell_type": "code",
   "execution_count": null,
   "metadata": {},
   "outputs": [],
   "source": []
  },
  {
   "cell_type": "code",
   "execution_count": null,
   "metadata": {},
   "outputs": [],
   "source": []
  },
  {
   "cell_type": "code",
   "execution_count": null,
   "metadata": {},
   "outputs": [],
   "source": []
  },
  {
   "cell_type": "code",
   "execution_count": null,
   "metadata": {},
   "outputs": [],
   "source": []
  },
  {
   "cell_type": "code",
   "execution_count": null,
   "metadata": {},
   "outputs": [],
   "source": []
  },
  {
   "cell_type": "code",
   "execution_count": null,
   "metadata": {},
   "outputs": [],
   "source": []
  },
  {
   "cell_type": "code",
   "execution_count": null,
   "metadata": {},
   "outputs": [],
   "source": []
  },
  {
   "cell_type": "code",
   "execution_count": null,
   "metadata": {},
   "outputs": [],
   "source": []
  },
  {
   "cell_type": "code",
   "execution_count": null,
   "metadata": {},
   "outputs": [],
   "source": []
  },
  {
   "cell_type": "code",
   "execution_count": null,
   "metadata": {},
   "outputs": [],
   "source": []
  },
  {
   "cell_type": "code",
   "execution_count": null,
   "metadata": {},
   "outputs": [],
   "source": [
    "def tracker():\n",
    "    tracker_type='CSRT'\n",
    "    tracker = cv2.TrackerCSRT_create()\n",
    "    # Read video\n",
    "    video = cv2.VideoCapture(\"video.avi\")\n",
    "\n",
    "\n",
    "    # Exit if video not opened.\n",
    "    if not video.isOpened():\n",
    "        print (\"Could not open video\")\n",
    "        sys.exit()\n",
    "\n",
    "    # Read first frame.\n",
    "    ok, frame = video.read()\n",
    "    if not ok:\n",
    "        print ('Cannot read video file')\n",
    "        sys.exit()\n",
    "\n",
    "    # Define an initial bounding box\n",
    "    #bbox = (287, 23, 86, 320)\n",
    "\n",
    "    # Uncomment the line below to select a different bounding box\n",
    "    bbox = cv2.selectROI(frame, False)\n",
    "    \n",
    "\n",
    "\n",
    "    # Initialize tracker with first frame and bounding box\n",
    "    ok = tracker.init(frame, bbox)\n",
    "    print(bbox)\n",
    "    bboxpred=np.array(bbox)\n",
    "    while True:\n",
    "        # Read a new frame\n",
    "        ok, frame = video.read()\n",
    "        if not ok:\n",
    "            break\n",
    "\n",
    "        # Start timer\n",
    "        timer = cv2.getTickCount()\n",
    "\n",
    "        # Update tracker\n",
    "        ok, bbox = tracker.update(frame)\n",
    "\n",
    "        # Calculate Frames per second (FPS)\n",
    "        fps = cv2.getTickFrequency() / (cv2.getTickCount() - timer);\n",
    "\n",
    "        # Draw bounding box\n",
    "        if ok:\n",
    "            # Tracking success\n",
    "            p1 = (int(bbox[0]), int(bbox[1]))\n",
    "            p2 = (int(bbox[0] + bbox[2]), int(bbox[1] + bbox[3]))\n",
    "            cv2.rectangle(frame, p1, p2, (255,0,0), 2, 1)\n",
    "        else :\n",
    "            # Tracking failure\n",
    "            cv2.putText(frame, \"Tracking failure detected\", (100,80), cv2.FONT_HERSHEY_SIMPLEX, 0.75,(0,0,255),2)\n",
    "\n",
    "        # Display tracker type on frame\n",
    "        cv2.putText(frame, tracker_type + \" Tracker\", (100,20), cv2.FONT_HERSHEY_SIMPLEX, 0.75, (50,170,50),2);\n",
    "\n",
    "        # Display FPS on frame\n",
    "        cv2.putText(frame, \"FPS : \" + str(int(fps)), (100,50), cv2.FONT_HERSHEY_SIMPLEX, 0.75, (50,170,50), 2);\n",
    "\n",
    "        # Display result\n",
    "        cv2.imshow(\"Tracking\", frame)\n",
    "        bboxpred=np.append(bboxpred,bbox)\n",
    "\n",
    "        if cv2.waitKey(1) & 0xFF == ord('q'):\n",
    "            break\n",
    "\n",
    "    cv2.destroyAllWindows()\n",
    "    return bboxpred"
   ]
  }
 ],
 "metadata": {
  "kernelspec": {
   "display_name": "Python 3",
   "language": "python",
   "name": "python3"
  },
  "language_info": {
   "codemirror_mode": {
    "name": "ipython",
    "version": 3
   },
   "file_extension": ".py",
   "mimetype": "text/x-python",
   "name": "python",
   "nbconvert_exporter": "python",
   "pygments_lexer": "ipython3",
   "version": "3.6.8"
  }
 },
 "nbformat": 4,
 "nbformat_minor": 2
}
